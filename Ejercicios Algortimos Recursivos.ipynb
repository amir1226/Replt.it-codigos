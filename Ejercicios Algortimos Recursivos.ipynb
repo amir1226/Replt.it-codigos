{
 "cells": [
  {
   "cell_type": "markdown",
   "metadata": {},
   "source": [
    "# Funciones recursivas con el uso exclusivo de operaciones matemáticas"
   ]
  },
  {
   "cell_type": "markdown",
   "metadata": {},
   "source": [
    "## 1. Obtener el último dígito de un número natural"
   ]
  },
  {
   "cell_type": "code",
   "execution_count": 1,
   "metadata": {},
   "outputs": [
    {
     "name": "stdout",
     "output_type": "stream",
     "text": [
      "Deme el número: 1234\n",
      "Último dígito: 4\n"
     ]
    }
   ],
   "source": [
    "def ultimo_dig_recursivo(n):\n",
    "  if n%10 == 0:\n",
    "    return 0\n",
    "  else:\n",
    "    return ultimo_dig_recursivo(n-1)+1\n",
    "  \n",
    "x=int(input(\"Deme el número: \"))\n",
    "\n",
    "print(\"Último dígito: {}\".format(ultimo_dig_recursivo(x)))"
   ]
  },
  {
   "cell_type": "markdown",
   "metadata": {},
   "source": [
    "## 2. Adicionar un dígito al inicio de un número natural"
   ]
  },
  {
   "cell_type": "code",
   "execution_count": 2,
   "metadata": {},
   "outputs": [
    {
     "name": "stdout",
     "output_type": "stream",
     "text": [
      "Ingrese el dígito a adicionar: 2\n",
      "Ingrese un número: 4456\n",
      "Dígito adicionado al comienzo: 24456\n"
     ]
    }
   ],
   "source": [
    "def adicionar_primer_digito_recursivo(digito,n):\n",
    "  if n//10 ==0:\n",
    "    return (10*digito+(n%10))\n",
    "  return 10*adicionar_primer_digito_recursivo(digito,n//10) + n%10\n",
    "\n",
    "dig=int(input(\"Ingrese el dígito a adicionar: \"))\n",
    "numero=int(input(\"Ingrese un número: \"))\n",
    "\n",
    "print(\"Dígito adicionado al comienzo: {}\". format(adicionar_primer_digito_recursivo(dig,numero)))\n"
   ]
  },
  {
   "cell_type": "markdown",
   "metadata": {},
   "source": [
    "## 3. Contar los dígitos de un número natural"
   ]
  },
  {
   "cell_type": "code",
   "execution_count": 5,
   "metadata": {},
   "outputs": [
    {
     "name": "stdout",
     "output_type": "stream",
     "text": [
      "Ingrese un número: 23412\n",
      "El número 23412 tiene 5 dígitos\n"
     ]
    }
   ],
   "source": [
    "def contar_digitos_recursivo(n):\n",
    "  if n==0:\n",
    "    return 0\n",
    "  return contar_digitos_recursivo(n//10) +1\n",
    "\n",
    "numero=int(input(\"Ingrese un número: \"))\n",
    "\n",
    "print(\"El número {} tiene {} dígitos\". format(numero, contar_digitos_recursivo(numero)))"
   ]
  },
  {
   "cell_type": "markdown",
   "metadata": {},
   "source": [
    "## 4. Sumar los dígitos de un número natural"
   ]
  },
  {
   "cell_type": "code",
   "execution_count": 6,
   "metadata": {},
   "outputs": [
    {
     "name": "stdout",
     "output_type": "stream",
     "text": [
      "Ingrese un número: 2312\n",
      "La suma de los dígitos del número 2312 es: 8\n"
     ]
    }
   ],
   "source": [
    "def sumar_digitos_recursivo(n):\n",
    "  if n == 0:\n",
    "    return 0\n",
    "  return sumar_digitos_recursivo(n//10) + n%10\n",
    "\n",
    "num=int(input(\"Ingrese un número: \"))\n",
    "\n",
    "print(\"La suma de los dígitos del número {} es: {}\".format(num,sumar_digitos_recursivo(num)))"
   ]
  },
  {
   "cell_type": "markdown",
   "metadata": {},
   "source": [
    "## 5. Obtener el primer dígito de un número natural"
   ]
  },
  {
   "cell_type": "code",
   "execution_count": 7,
   "metadata": {},
   "outputs": [
    {
     "name": "stdout",
     "output_type": "stream",
     "text": [
      "Ingrese un número: 234\n",
      "2 es el primer dígito del número 234\n"
     ]
    }
   ],
   "source": [
    "def primer_digito_recursivo(n):\n",
    "  if n//10 == 0:\n",
    "    return n\n",
    "  return primer_digito_recursivo(n//10)\n",
    "\n",
    "num=int(input(\"Ingrese un número: \"))\n",
    "\n",
    "print(\"{} es el primer dígito del número {}\".format(primer_digito_recursivo(num),num))"
   ]
  },
  {
   "cell_type": "markdown",
   "metadata": {},
   "source": [
    "## 6. Eliminar el primer dígito de un número natural"
   ]
  },
  {
   "cell_type": "code",
   "execution_count": 8,
   "metadata": {},
   "outputs": [
    {
     "name": "stdout",
     "output_type": "stream",
     "text": [
      "Ingrese un número: 2314\n",
      "El número sin el primer dígito es: 314\n"
     ]
    }
   ],
   "source": [
    "def eliminar_primer_digito_recursivo(n):\n",
    "  if n//10 == 0:\n",
    "    return 0\n",
    "  return 10*eliminar_primer_digito_recursivo(n//10) + n%10\n",
    "\n",
    "num=int(input(\"Ingrese un número: \"))\n",
    "\n",
    "print(\"El número sin el primer dígito es: {}\".format(eliminar_primer_digito_recursivo(num)))"
   ]
  },
  {
   "cell_type": "markdown",
   "metadata": {},
   "source": [
    "## 7. Invertir un número (usando dos funciones)"
   ]
  },
  {
   "cell_type": "code",
   "execution_count": 9,
   "metadata": {},
   "outputs": [
    {
     "name": "stdout",
     "output_type": "stream",
     "text": [
      "Ingrese un número: 234567\n",
      "Número invertido: 765432\n"
     ]
    }
   ],
   "source": [
    "def encontrar_base(numero):\n",
    "  if numero <10:\n",
    "    return 1\n",
    "  return 10*encontrar_base(numero//10)\n",
    "\n",
    "def invertir_numero_recursivo(n):\n",
    "  base=encontrar_base(n)\n",
    "  if n < 10:\n",
    "    return n\n",
    "  return invertir_numero_recursivo(n//10)+(n%10)*base\n",
    "\n",
    "num=int(input(\"Ingrese un número: \"))\n",
    "\n",
    "print(\"Número invertido: {}\".format(invertir_numero_recursivo(num)))"
   ]
  },
  {
   "cell_type": "markdown",
   "metadata": {},
   "source": [
    "## 7. Hallar número capicua (número capicúa) - Utilizando función para invertir con 2 parámetros"
   ]
  },
  {
   "cell_type": "code",
   "execution_count": 11,
   "metadata": {},
   "outputs": [
    {
     "name": "stdout",
     "output_type": "stream",
     "text": [
      "Ingrese el número a evaluar: 324423\n",
      "Si es capicúa\n"
     ]
    }
   ],
   "source": [
    "def invertir_recursiva_2(n, base=0):  \n",
    "    if (n == 0):  \n",
    "      return base;  \n",
    "\n",
    "    base = (base * 10) + (n % 10);  \n",
    "  \n",
    "    return invertir_recursiva_2(n // 10, base);  \n",
    "  \n",
    "num = int(input(\"Ingrese el número a evaluar: \")) \n",
    "inverso = invertir_recursiva_2(num)\n",
    "  \n",
    "if (inverso == num):  \n",
    "    print(\"Si es capicúa\");  \n",
    "else: \n",
    "    print(\"No es capicúa\");  "
   ]
  },
  {
   "cell_type": "markdown",
   "metadata": {},
   "source": [
    "## 8. Simplificación de una fracción de la forma (a/b)"
   ]
  },
  {
   "cell_type": "code",
   "execution_count": 13,
   "metadata": {},
   "outputs": [
    {
     "name": "stdout",
     "output_type": "stream",
     "text": [
      "Deme la fracción (a/b):9/33\n",
      "3/11\n"
     ]
    }
   ],
   "source": [
    "def _simplificacion_recurs(n,m,i=2):\n",
    "  ##Caso Base\n",
    "    if i>m: \n",
    "        return n,m\n",
    "  ##Caso cuando i es múltiplo de ambos\n",
    "    elif (n%i==0) and (m%i ==0): \n",
    "        return _simplificacion_recurs(n//i,m//i,i)\n",
    "  ##Cualquier otro caso\n",
    "    else:\n",
    "        return _simplificacion_recurs(n,m,i+1)\n",
    "\n",
    "def simplificacion(x,y):\n",
    "    if y>x:\n",
    "        simp= _simplificacion_recurs(y,x)\n",
    "    \n",
    "    simp= _simplificacion_recurs(x,y)\n",
    "    return \"{}/{}\".format(simp[0],simp[1])\n",
    "\n",
    "entrada=tuple(map(int,input(\"Deme la fracción (a/b):\").split(\"/\")))\n",
    "\n",
    "print(simplificacion(entrada[0],entrada[1]))"
   ]
  }
 ],
 "metadata": {
  "kernelspec": {
   "display_name": "Python 3",
   "language": "python",
   "name": "python3"
  },
  "language_info": {
   "codemirror_mode": {
    "name": "ipython",
    "version": 3
   },
   "file_extension": ".py",
   "mimetype": "text/x-python",
   "name": "python",
   "nbconvert_exporter": "python",
   "pygments_lexer": "ipython3",
   "version": "3.8.3"
  }
 },
 "nbformat": 4,
 "nbformat_minor": 4
}
