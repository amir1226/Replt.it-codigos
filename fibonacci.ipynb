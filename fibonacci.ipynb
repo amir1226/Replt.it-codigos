{
  "nbformat": 4,
  "nbformat_minor": 0,
  "metadata": {
    "kernelspec": {
      "display_name": "Python 3",
      "language": "python",
      "name": "python3"
    },
    "language_info": {
      "codemirror_mode": {
        "name": "ipython",
        "version": 3
      },
      "file_extension": ".py",
      "mimetype": "text/x-python",
      "name": "python",
      "nbconvert_exporter": "python",
      "pygments_lexer": "ipython3",
      "version": "3.8.3"
    },
    "colab": {
      "name": "fibonacci.ipynb",
      "provenance": [],
      "collapsed_sections": []
    }
  },
  "cells": [
    {
      "cell_type": "markdown",
      "metadata": {
        "id": "NMCgn_mfRN2b"
      },
      "source": [
        "# Serie Fibonacci con diferentes algoritmos "
      ]
    },
    {
      "cell_type": "markdown",
      "metadata": {
        "id": "1DA3wRjJRN2k"
      },
      "source": [
        "## Algoritmo recursivo"
      ]
    },
    {
      "cell_type": "code",
      "metadata": {
        "id": "ObthDUYSRN2p",
        "outputId": "ca20bc2e-2368-48b9-9bdd-2da3af19d49c",
        "colab": {
          "base_uri": "https://localhost:8080/",
          "height": 34
        }
      },
      "source": [
        "def fibonacci_recursivo(k):\n",
        "  if(k == 0 or k == 1):\n",
        "    return k;\n",
        "  else:\n",
        "    return fibonacci_recursivo(k-1) + fibonacci_recursivo(k-2)\n",
        "\n",
        "print(fibonacci_recursivo(40))"
      ],
      "execution_count": null,
      "outputs": [
        {
          "output_type": "stream",
          "text": [
            "102334155\n"
          ],
          "name": "stdout"
        }
      ]
    },
    {
      "cell_type": "markdown",
      "metadata": {
        "id": "vHaYxqCKUly-"
      },
      "source": [
        "## Algoritmo Fast doubling\n",
        "https://www.nayuki.io/page/fast-fibonacci-algorithms\n"
      ]
    },
    {
      "cell_type": "code",
      "metadata": {
        "id": "Tk7qmoiQR2lt",
        "outputId": "5cc3dbd4-8d6c-42a7-db38-47e50a3fd04a",
        "colab": {
          "base_uri": "https://localhost:8080/",
          "height": 34
        }
      },
      "source": [
        "def fibonacci(n):\n",
        "\tif n < 0:\n",
        "\t\traise ValueError(\"Negative arguments not implemented\")\n",
        "\treturn _fib(n)[0]\n",
        "\n",
        "# (Private) Returns the tuple (F(n), F(n+1)).\n",
        "def _fib(n):\n",
        "\tif n == 0:\n",
        "\t\treturn (0, 1)\n",
        "\telse:\n",
        "\t\ta, b = _fib(n // 2)\n",
        "\t\tc = a * (b * 2 - a)\n",
        "\t\td = a * a + b * b\n",
        "\t\tif n % 2 == 0:\n",
        "\t\t\treturn (c, d)\n",
        "\t\telse:\n",
        "\t\t\treturn (d, c + d)\n",
        "\n",
        "print(fibonacci(40))"
      ],
      "execution_count": null,
      "outputs": [
        {
          "output_type": "stream",
          "text": [
            "102334155\n"
          ],
          "name": "stdout"
        }
      ]
    },
    {
      "cell_type": "code",
      "metadata": {
        "id": "UibTJ_6RUQL1"
      },
      "source": [
        "import time\n",
        "lista_recursiva=[]\n",
        "lista_fast=[]\n",
        "x_val=range(2,30)\n",
        "for i in x_val:\n",
        "  start_time=time.time()\n",
        "  x=i\n",
        "  f=fibonacci_recursivo(x)\n",
        "  y=(time.time() - start_time)\n",
        "  lista_recursiva.append(y)\n",
        "\n",
        "for i in x_val:\n",
        "  start_time=time.time()\n",
        "  x=i\n",
        "  f=fibonacci(x)\n",
        "  y=(time.time() - start_time)\n",
        "  lista_fast.append(y)\n"
      ],
      "execution_count": null,
      "outputs": []
    },
    {
      "cell_type": "code",
      "metadata": {
        "id": "Vxs8jlAXWWrY",
        "outputId": "9d9b02a5-f088-4f52-8abc-da5da3722aa5",
        "colab": {
          "base_uri": "https://localhost:8080/",
          "height": 34
        }
      },
      "source": [
        "lista_fast[0]"
      ],
      "execution_count": null,
      "outputs": [
        {
          "output_type": "execute_result",
          "data": {
            "text/plain": [
              "5.245208740234375e-06"
            ]
          },
          "metadata": {
            "tags": []
          },
          "execution_count": 4
        }
      ]
    },
    {
      "cell_type": "code",
      "metadata": {
        "id": "wtfHrZusWMk2",
        "outputId": "047983fb-a707-49b8-9097-f29ad1333545",
        "colab": {
          "base_uri": "https://localhost:8080/",
          "height": 295
        }
      },
      "source": [
        "%matplotlib inline\n",
        "import matplotlib.pyplot as plt\n",
        "x_labels = x_val\n",
        "plt.plot(lista_fast,color='green',label=\"fast\")\n",
        "plt.plot(lista_recursiva,color='blue',label=\"recursivo\")\n",
        "plt.title(\"Tiempo de ejecución(s)\")\n",
        "plt.xlabel(\"n\")\n",
        "plt.legend()\n",
        "plt.show()"
      ],
      "execution_count": null,
      "outputs": [
        {
          "output_type": "display_data",
          "data": {
            "image/png": "[encoded data removed]",
            "text/plain": [
              "<Figure size 432x288 with 1 Axes>"
            ]
          },
          "metadata": {
            "tags": [],
            "needs_background": "light"
          }
        }
      ]
    },
    {
      "cell_type": "code",
      "metadata": {
        "id": "vojL7MLJYKUv",
        "outputId": "688602d4-943d-43ee-c06e-bc5f34719b96",
        "colab": {
          "base_uri": "https://localhost:8080/",
          "height": 295
        }
      },
      "source": [
        "%matplotlib inline\n",
        "import matplotlib.pyplot as plt\n",
        "x_labels = x_val\n",
        "plt.plot(lista_fast[0:16],color='green',label=\"fast\")\n",
        "plt.plot(lista_recursiva[0:16],color='blue',label=\"recursivo\")\n",
        "plt.title(\"Tiempo de ejecución(s)\")\n",
        "plt.xlabel(\"n\")\n",
        "plt.legend()\n",
        "plt.show()"
      ],
      "execution_count": null,
      "outputs": [
        {
          "output_type": "display_data",
          "data": {
            "image/png": "[encoded data removed]",
            "text/plain": [
              "<Figure size 432x288 with 1 Axes>"
            ]
          },
          "metadata": {
            "tags": [],
            "needs_background": "light"
          }
        }
      ]
    },
    {
      "cell_type": "code",
      "metadata": {
        "id": "om9w8gg0ZZ03",
        "outputId": "69783149-4b60-412e-edd5-5674361b90f8",
        "colab": {
          "base_uri": "https://localhost:8080/",
          "height": 295
        }
      },
      "source": [
        "%matplotlib inline\n",
        "import matplotlib.pyplot as plt\n",
        "x_labels = x_val\n",
        "plt.plot(lista_fast[0:6],color='green',label=\"fast\")\n",
        "plt.plot(lista_recursiva[0:6],color='blue',label=\"recursivo\")\n",
        "plt.title(\"Tiempo de ejecución(s)\")\n",
        "plt.xlabel(\"n\")\n",
        "plt.legend()\n",
        "plt.show()"
      ],
      "execution_count": null,
      "outputs": [
        {
          "output_type": "display_data",
          "data": {
            "image/png": "[encoded data removed]",
            "text/plain": [
              "<Figure size 432x288 with 1 Axes>"
            ]
          },
          "metadata": {
            "tags": [],
            "needs_background": "light"
          }
        }
      ]
    }
  ]
}