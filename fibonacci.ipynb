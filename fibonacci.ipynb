{
  "nbformat": 4,
  "nbformat_minor": 0,
  "metadata": {
    "kernelspec": {
      "display_name": "Python 3",
      "language": "python",
      "name": "python3"
    },
    "language_info": {
      "codemirror_mode": {
        "name": "ipython",
        "version": 3
      },
      "file_extension": ".py",
      "mimetype": "text/x-python",
      "name": "python",
      "nbconvert_exporter": "python",
      "pygments_lexer": "ipython3",
      "version": "3.8.3"
    },
    "colab": {
      "name": "fibonacci.ipynb",
      "provenance": [],
      "collapsed_sections": []
    }
  },
  "cells": [
    {
      "cell_type": "markdown",
      "metadata": {
        "id": "NMCgn_mfRN2b"
      },
      "source": [
        "# Serie Fibonacci con diferentes algoritmos "
      ]
    },
    {
      "cell_type": "code",
      "metadata": {
        "id": "mas5Abx4RWkQ",
        "outputId": "a8ed6cdf-7ec8-4a49-eb21-f11ca187e38c",
        "colab": {
          "base_uri": "https://localhost:8080/",
          "height": 54
        }
      },
    {
      "cell_type": "markdown",
      "metadata": {
        "id": "1DA3wRjJRN2k"
      },
      "source": [
        "## Algoritmo recursivo"
      ]
    },
    {
      "cell_type": "code",
      "metadata": {
        "id": "ObthDUYSRN2p",
        "outputId": "22ed645b-4108-48f6-d16b-45a9289b7a60",
        "colab": {
          "base_uri": "https://localhost:8080/",
          "height": 35
        }
      },
      "source": [
        "def fibonacci_recursivo(k):\n",
        "  if(k == 0 or k == 1):\n",
        "    return k;\n",
        "  else:\n",
        "    return fibonacci_recursivo(k-1) + fibonacci_recursivo(k-2)\n",
        "\n",
        "print(fibonacci_recursivo(40))"
      ],
      "execution_count": 4,
      "outputs": [
        {
          "output_type": "stream",
          "text": [
            "102334155\n"
          ],
          "name": "stdout"
        }
      ]
    },
    {
      "cell_type": "markdown",
      "metadata": {
        "id": "vHaYxqCKUly-"
      },
      "source": [
        "## Algoritmo Fast doubling\n",
        "https://www.nayuki.io/page/fast-fibonacci-algorithms\n"
      ]
    },
    {
      "cell_type": "code",
      "metadata": {
        "id": "Tk7qmoiQR2lt",
        "outputId": "69bf8c74-db20-4f9e-94b4-8435713bf238",
        "colab": {
          "base_uri": "https://localhost:8080/",
          "height": 35
        }
      },
      "source": [
        "def fibonacci(n):\n",
        "\tif n < 0:\n",
        "\t\traise ValueError(\"Negative arguments not implemented\")\n",
        "\treturn _fib(n)[0]\n",
        "\n",
        "# (Private) Returns the tuple (F(n), F(n+1)).\n",
        "def _fib(n):\n",
        "\tif n == 0:\n",
        "\t\treturn (0, 1)\n",
        "\telse:\n",
        "\t\ta, b = _fib(n // 2)\n",
        "\t\tc = a * (b * 2 - a)\n",
        "\t\td = a * a + b * b\n",
        "\t\tif n % 2 == 0:\n",
        "\t\t\treturn (c, d)\n",
        "\t\telse:\n",
        "\t\t\treturn (d, c + d)\n",
        "\n",
        "print(fibonacci(40))"
      ],
      "execution_count": 3,
      "outputs": [
        {
          "output_type": "stream",
          "text": [
            "102334155\n"
          ],
          "name": "stdout"
        }
      ]
    },
    {
      "cell_type": "code",
      "metadata": {
        "id": "UibTJ_6RUQL1"
      },
      "source": [
        "import time\n",
        "lista_recursiva=[]\n",
        "lista_fast=[]\n",
        "x_val=range(2,30)\n",
        "for i in x_val:\n",
        "  start_time=time.time()\n",
        "  x=i\n",
        "  f=fibonacci_recursivo(x)\n",
        "  y=(time.time() - start_time)\n",
        "  lista_recursiva.append(y)\n",
        "\n",
        "for i in x_val:\n",
        "  start_time=time.time()\n",
        "  x=i\n",
        "  f=fibonacci(x)\n",
        "  y=(time.time() - start_time)\n",
        "  lista_fast.append(y)\n"
      ],
      "execution_count": 18,
      "outputs": []
    },
    {
      "cell_type": "code",
      "metadata": {
        "id": "Vxs8jlAXWWrY",
        "outputId": "66626fdc-9773-4234-8559-5996a4871f1d",
        "colab": {
          "base_uri": "https://localhost:8080/",
          "height": 35
        }
      },
      "source": [
        "lista_fast[0]"
      ],
      "execution_count": 19,
      "outputs": [
        {
          "output_type": "execute_result",
          "data": {
            "text/plain": [
              "2.2649765014648438e-05"
            ]
          },
          "metadata": {
            "tags": []
          },
          "execution_count": 19
        }
      ]
    },
    {
      "cell_type": "code",
      "metadata": {
        "id": "wtfHrZusWMk2",
        "outputId": "fa37cfbb-2e98-484c-883b-552247361fd2",
        "colab": {
          "base_uri": "https://localhost:8080/",
          "height": 295
        }
      },
      "source": [
        "%matplotlib inline\n",
        "import matplotlib.pyplot as plt\n",
        "x_labels = x_val\n",
        "plt.plot(lista_fast,color='green',label=\"fast\")\n",
        "plt.plot(lista_recursiva,color='blue',label=\"recursivo\")\n",
        "plt.title(\"Tiempo de ejecución(s)\")\n",
        "plt.xlabel(\"n\")\n",
        "plt.legend()\n",
        "plt.show()"
      ],
      "execution_count": 30,
      "outputs": [
        {
          "output_type": "display_data",
          "data": {
            "image/png": "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\n",
            "text/plain": [
              "<Figure size 432x288 with 1 Axes>"
            ]
          },
          "metadata": {
            "tags": [],
            "needs_background": "light"
          }
        }
      ]
    },
    {
      "cell_type": "code",
      "metadata": {
        "id": "vojL7MLJYKUv",
        "outputId": "a74d0ad2-5780-49a9-f5c3-96f3c3e64c46",
        "colab": {
          "base_uri": "https://localhost:8080/",
          "height": 295
        }
      },
      "source": [
        "%matplotlib inline\n",
        "import matplotlib.pyplot as plt\n",
        "x_labels = x_val\n",
        "plt.plot(lista_fast[0:16],color='green',label=\"fast\")\n",
        "plt.plot(lista_recursiva[0:16],color='blue',label=\"recursivo\")\n",
        "plt.title(\"Tiempo de ejecución(s)\")\n",
        "plt.xlabel(\"n\")\n",
        "plt.legend()\n",
        "plt.show()"
      ],
      "execution_count": 31,
      "outputs": [
        {
          "output_type": "display_data",
          "data": {
            "image/png": "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\n",
            "text/plain": [
              "<Figure size 432x288 with 1 Axes>"
            ]
          },
          "metadata": {
            "tags": [],
            "needs_background": "light"
          }
        }
      ]
    },
    {
      "cell_type": "code",
      "metadata": {
        "id": "om9w8gg0ZZ03",
        "outputId": "9c15c878-d7df-4038-f7bc-842806e1d3b5",
        "colab": {
          "base_uri": "https://localhost:8080/",
          "height": 295
        }
      },
      "source": [
        "%matplotlib inline\n",
        "import matplotlib.pyplot as plt\n",
        "x_labels = x_val\n",
        "plt.plot(lista_fast[0:6],color='green',label=\"fast\")\n",
        "plt.plot(lista_recursiva[0:6],color='blue',label=\"recursivo\")\n",
        "plt.title(\"Tiempo de ejecución(s)\")\n",
        "plt.xlabel(\"n\")\n",
        "plt.legend()\n",
        "plt.show()"
      ],
      "execution_count": 32,
      "outputs": [
        {
          "output_type": "display_data",
          "data": {
            "image/png": "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\n",
            "text/plain": [
              "<Figure size 432x288 with 1 Axes>"
            ]
          },
          "metadata": {
            "tags": [],
            "needs_background": "light"
          }
        }
      ]
    },
    {
      "cell_type": "markdown",
      "metadata": {
        "id": "rOMlKFj9ZtT1"
      },
      "source": [
        ""
      ]
    },
    {
      "cell_type": "code",
      "metadata": {
        "id": "Mh5i_Y_UZsSx"
      },
      "source": [
        ""
      ],
      "execution_count": null,
      "outputs": []
    }
  ]
}
